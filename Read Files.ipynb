{
 "cells": [
  {
   "cell_type": "code",
   "execution_count": 1,
   "id": "sticky-reaction",
   "metadata": {},
   "outputs": [],
   "source": [
    "import cv2 as cv "
   ]
  },
  {
   "cell_type": "markdown",
   "id": "involved-investigator",
   "metadata": {},
   "source": [
    "<h3>Reading Images</h3>"
   ]
  },
  {
   "cell_type": "code",
   "execution_count": 2,
   "id": "opened-conviction",
   "metadata": {},
   "outputs": [],
   "source": [
    "img = cv.imread('Photos/cat.jpg')"
   ]
  },
  {
   "cell_type": "code",
   "execution_count": 3,
   "id": "caroline-world",
   "metadata": {},
   "outputs": [],
   "source": [
    "cv.imshow('Cat', img)\n",
    "cv.waitKey(0)\n",
    "cv.destroyAllWindows()"
   ]
  },
  {
   "cell_type": "code",
   "execution_count": 4,
   "id": "handy-arabic",
   "metadata": {},
   "outputs": [],
   "source": [
    "img2 = cv.imread('Photos/cat_large.jpg')"
   ]
  },
  {
   "cell_type": "code",
   "execution_count": 5,
   "id": "toxic-glasgow",
   "metadata": {},
   "outputs": [],
   "source": [
    "cv.imshow('Cat', img2)\n",
    "cv.waitKey(0)\n",
    "cv.destroyAllWindows()"
   ]
  },
  {
   "cell_type": "markdown",
   "id": "speaking-tours",
   "metadata": {},
   "source": [
    "<h3>Reading Videos</h3>"
   ]
  },
  {
   "cell_type": "code",
   "execution_count": 6,
   "id": "freelance-fraction",
   "metadata": {},
   "outputs": [],
   "source": [
    "Video = cv.VideoCapture('Videos/dog.mp4')\n",
    "while True:\n",
    "    isTrue, frame = Video.read()\n",
    "    cv.imshow('Video',frame)\n",
    "    \n",
    "    if cv.waitKey(20) & 0xFF==ord('d'):\n",
    "        break\n",
    "Video.release()\n",
    "cv.destroyAllWindows()"
   ]
  },
  {
   "cell_type": "code",
   "execution_count": null,
   "id": "advised-paragraph",
   "metadata": {},
   "outputs": [],
   "source": []
  }
 ],
 "metadata": {
  "kernelspec": {
   "display_name": "Python 3",
   "language": "python",
   "name": "python3"
  },
  "language_info": {
   "codemirror_mode": {
    "name": "ipython",
    "version": 3
   },
   "file_extension": ".py",
   "mimetype": "text/x-python",
   "name": "python",
   "nbconvert_exporter": "python",
   "pygments_lexer": "ipython3",
   "version": "3.8.8"
  }
 },
 "nbformat": 4,
 "nbformat_minor": 5
}

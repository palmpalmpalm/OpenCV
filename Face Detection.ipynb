{
 "cells": [
  {
   "cell_type": "code",
   "execution_count": 1,
   "id": "uniform-sacramento",
   "metadata": {},
   "outputs": [],
   "source": [
    "import cv2 as cv"
   ]
  },
  {
   "cell_type": "code",
   "execution_count": 3,
   "id": "focused-mercy",
   "metadata": {},
   "outputs": [],
   "source": [
    "# Utility function to use cv.imshow in jupyter notebook (lazy to type waitKey and destroyAllWindows)\n",
    "def show_img(name, img):\n",
    "    cv.imshow(name, img)\n",
    "    cv.waitKey(0)\n",
    "    cv.destroyAllWindows()"
   ]
  },
  {
   "cell_type": "code",
   "execution_count": 2,
   "id": "cognitive-universal",
   "metadata": {},
   "outputs": [],
   "source": [
    "img = cv.imread('Photos/lady.jpg')"
   ]
  },
  {
   "cell_type": "code",
   "execution_count": 4,
   "id": "historic-council",
   "metadata": {},
   "outputs": [],
   "source": [
    "show_img('Lady', img)"
   ]
  },
  {
   "cell_type": "code",
   "execution_count": 5,
   "id": "prime-listening",
   "metadata": {},
   "outputs": [],
   "source": [
    "gray = cv.cvtColor(img, cv.COLOR_BGR2GRAY)\n",
    "show_img('Gray Lady', gray)"
   ]
  },
  {
   "cell_type": "code",
   "execution_count": 6,
   "id": "progressive-joseph",
   "metadata": {
    "scrolled": false
   },
   "outputs": [
    {
     "data": {
      "text/plain": [
       "(685, 637)"
      ]
     },
     "execution_count": 6,
     "metadata": {},
     "output_type": "execute_result"
    }
   ],
   "source": [
    "gray.shape"
   ]
  },
  {
   "cell_type": "markdown",
   "id": "regional-meeting",
   "metadata": {},
   "source": [
    "Import model"
   ]
  },
  {
   "cell_type": "code",
   "execution_count": 7,
   "id": "massive-credit",
   "metadata": {},
   "outputs": [],
   "source": [
    "haar_cascade = cv.CascadeClassifier('haar_face.xml')"
   ]
  },
  {
   "cell_type": "code",
   "execution_count": 8,
   "id": "processed-matter",
   "metadata": {},
   "outputs": [],
   "source": [
    "faces_rect = haar_cascade.detectMultiScale(gray, scaleFactor=1.1, minNeighbors=3)"
   ]
  },
  {
   "cell_type": "code",
   "execution_count": 9,
   "id": "confidential-verse",
   "metadata": {},
   "outputs": [
    {
     "data": {
      "text/plain": [
       "array([[175, 136, 266, 266]], dtype=int32)"
      ]
     },
     "execution_count": 9,
     "metadata": {},
     "output_type": "execute_result"
    }
   ],
   "source": [
    "faces_rect"
   ]
  },
  {
   "cell_type": "code",
   "execution_count": 10,
   "id": "neural-memorabilia",
   "metadata": {},
   "outputs": [],
   "source": [
    "for (x,y,w,h) in faces_rect:\n",
    "    cv.rectangle(img, (x,y), (x+w,y+h), (0,255,0), thickness=2)\n",
    "\n",
    "show_img('Detected Face', img)"
   ]
  },
  {
   "cell_type": "code",
   "execution_count": 18,
   "id": "sporting-penetration",
   "metadata": {},
   "outputs": [],
   "source": [
    "def face_detection(img):\n",
    "    gray_img = cv.cvtColor(img, cv.COLOR_BGR2GRAY)\n",
    "    faces_rect = haar_cascade.detectMultiScale(gray_img, scaleFactor=1.1, minNeighbors=3)\n",
    "    for (x,y,w,h) in faces_rect:\n",
    "        cv.rectangle(img, (x,y), (x+w,y+h), (0,255,0), thickness=2)\n",
    "    show_img('Detected Face', img)"
   ]
  },
  {
   "cell_type": "code",
   "execution_count": 21,
   "id": "collectible-twist",
   "metadata": {},
   "outputs": [],
   "source": [
    "img2 = cv.imread('Photos/group 2.jpg')\n",
    "show_img('Group',img2)"
   ]
  },
  {
   "cell_type": "code",
   "execution_count": null,
   "id": "gentle-machinery",
   "metadata": {},
   "outputs": [],
   "source": [
    "face_detection(img2)"
   ]
  },
  {
   "cell_type": "code",
   "execution_count": null,
   "id": "textile-insert",
   "metadata": {},
   "outputs": [],
   "source": []
  }
 ],
 "metadata": {
  "kernelspec": {
   "display_name": "Python 3",
   "language": "python",
   "name": "python3"
  },
  "language_info": {
   "codemirror_mode": {
    "name": "ipython",
    "version": 3
   },
   "file_extension": ".py",
   "mimetype": "text/x-python",
   "name": "python",
   "nbconvert_exporter": "python",
   "pygments_lexer": "ipython3",
   "version": "3.8.8"
  }
 },
 "nbformat": 4,
 "nbformat_minor": 5
}

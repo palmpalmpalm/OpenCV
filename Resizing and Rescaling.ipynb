{
 "cells": [
  {
   "cell_type": "code",
   "execution_count": 1,
   "id": "basic-hawaii",
   "metadata": {},
   "outputs": [],
   "source": [
    "import cv2 as cv "
   ]
  },
  {
   "cell_type": "code",
   "execution_count": 2,
   "id": "center-experience",
   "metadata": {},
   "outputs": [],
   "source": [
    "img = cv.imread('Photos/cat_large.jpg')\n",
    "cv.imshow('Cat', img)\n",
    "cv.waitKey(0)\n",
    "cv.destroyAllWindows()"
   ]
  },
  {
   "cell_type": "markdown",
   "id": "general-holiday",
   "metadata": {},
   "source": [
    "<h3>Rescaling Function</h3>"
   ]
  },
  {
   "cell_type": "code",
   "execution_count": 3,
   "id": "brutal-reverse",
   "metadata": {},
   "outputs": [],
   "source": [
    "def rescaleFrame(frame, scale=0.75):\n",
    "    width = int(frame.shape[1] * scale)\n",
    "    height = int(frame.shape[0] * scale)\n",
    "    dimensions = (width, height)\n",
    "    \n",
    "    return cv.resize(frame, dimensions, interpolation=cv.INTER_AREA)"
   ]
  },
  {
   "cell_type": "code",
   "execution_count": 5,
   "id": "legendary-stick",
   "metadata": {},
   "outputs": [],
   "source": [
    "Video = cv.VideoCapture('Videos/dog.mp4')\n",
    "while True:\n",
    "    isTrue, frame = Video.read()\n",
    "    \n",
    "    frame_resized = rescaleFrame(frame, scale=0.2)\n",
    "    \n",
    "    cv.imshow('Video',frame)\n",
    "    cv.imshow('Video Resized', frame_resized)\n",
    "    \n",
    "    if cv.waitKey(20) & 0xFF==ord('d'):\n",
    "        break\n",
    "Video.release()\n",
    "cv.destroyAllWindows()"
   ]
  },
  {
   "cell_type": "code",
   "execution_count": 6,
   "id": "alternative-washington",
   "metadata": {},
   "outputs": [],
   "source": [
    "cv.imshow('Image_resized', rescaleFrame(img,0.2))\n",
    "cv.waitKey(0)\n",
    "cv.destroyAllWindows()"
   ]
  },
  {
   "cell_type": "markdown",
   "id": "portuguese-compensation",
   "metadata": {},
   "source": [
    "<h3>Rescaling Function for live</h3>"
   ]
  },
  {
   "cell_type": "code",
   "execution_count": null,
   "id": "happy-facing",
   "metadata": {},
   "outputs": [],
   "source": [
    "def changeRes(width, hegiht):\n",
    "    capture.set(3, width)\n",
    "    capre"
   ]
  }
 ],
 "metadata": {
  "kernelspec": {
   "display_name": "Python 3",
   "language": "python",
   "name": "python3"
  },
  "language_info": {
   "codemirror_mode": {
    "name": "ipython",
    "version": 3
   },
   "file_extension": ".py",
   "mimetype": "text/x-python",
   "name": "python",
   "nbconvert_exporter": "python",
   "pygments_lexer": "ipython3",
   "version": "3.8.8"
  }
 },
 "nbformat": 4,
 "nbformat_minor": 5
}

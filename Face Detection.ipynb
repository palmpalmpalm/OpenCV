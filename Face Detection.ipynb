{
 "cells": [
  {
   "cell_type": "code",
   "execution_count": 1,
   "id": "ethical-dietary",
   "metadata": {},
   "outputs": [],
   "source": [
    "import cv2 as cv"
   ]
  },
  {
   "cell_type": "code",
   "execution_count": 3,
   "id": "moral-equity",
   "metadata": {},
   "outputs": [],
   "source": [
    "# Utility function to use cv.imshow in jupyter notebook (lazy to type waitKey and destroyAllWindows)\n",
    "def show_img(name, img):\n",
    "    cv.imshow(name, img)\n",
    "    cv.waitKey(0)\n",
    "    cv.destroyAllWindows()"
   ]
  },
  {
   "cell_type": "code",
   "execution_count": 2,
   "id": "computational-seminar",
   "metadata": {},
   "outputs": [],
   "source": [
    "img = cv.imread('Photos/lady.jpg')"
   ]
  },
  {
   "cell_type": "code",
   "execution_count": 4,
   "id": "facial-anger",
   "metadata": {},
   "outputs": [],
   "source": [
    "show_img('Lady', img)"
   ]
  },
  {
   "cell_type": "code",
   "execution_count": 5,
   "id": "sharp-montana",
   "metadata": {},
   "outputs": [],
   "source": [
    "gray = cv.cvtColor(img, cv.COLOR_BGR2GRAY)\n",
    "show_img('Gray Lady', gray)"
   ]
  },
  {
   "cell_type": "code",
   "execution_count": 6,
   "id": "fitted-bread",
   "metadata": {
    "scrolled": false
   },
   "outputs": [
    {
     "data": {
      "text/plain": [
       "(685, 637)"
      ]
     },
     "execution_count": 6,
     "metadata": {},
     "output_type": "execute_result"
    }
   ],
   "source": [
    "gray.shape"
   ]
  },
  {
   "cell_type": "markdown",
   "id": "latter-dubai",
   "metadata": {},
   "source": [
    "Import model"
   ]
  },
  {
   "cell_type": "code",
   "execution_count": 7,
   "id": "prompt-louis",
   "metadata": {},
   "outputs": [],
   "source": [
    "haar_cascade = cv.CascadeClassifier('haar_face.xml')"
   ]
  },
  {
   "cell_type": "code",
   "execution_count": 8,
   "id": "tutorial-distinction",
   "metadata": {},
   "outputs": [],
   "source": [
    "faces_rect = haar_cascade.detectMultiScale(gray, scaleFactor=1.1, minNeighbors=3)"
   ]
  },
  {
   "cell_type": "code",
   "execution_count": 9,
   "id": "traditional-homeless",
   "metadata": {},
   "outputs": [
    {
     "data": {
      "text/plain": [
       "array([[175, 136, 266, 266]], dtype=int32)"
      ]
     },
     "execution_count": 9,
     "metadata": {},
     "output_type": "execute_result"
    }
   ],
   "source": [
    "faces_rect"
   ]
  },
  {
   "cell_type": "code",
   "execution_count": 10,
   "id": "another-mustang",
   "metadata": {},
   "outputs": [],
   "source": [
    "for (x,y,w,h) in faces_rect:\n",
    "    cv.rectangle(img, (x,y), (x+w,y+h), (0,255,0), thickness=2)\n",
    "\n",
    "show_img('Detected Face', img)"
   ]
  },
  {
   "cell_type": "code",
   "execution_count": 18,
   "id": "generous-snowboard",
   "metadata": {},
   "outputs": [],
   "source": [
    "def face_detection(img):\n",
    "    gray_img = cv.cvtColor(img, cv.COLOR_BGR2GRAY)\n",
    "    faces_rect = haar_cascade.detectMultiScale(gray_img, scaleFactor=1.1, minNeighbors=3)\n",
    "    for (x,y,w,h) in faces_rect:\n",
    "        cv.rectangle(img, (x,y), (x+w,y+h), (0,255,0), thickness=2)\n",
    "    show_img('Detected Face', img)"
   ]
  },
  {
   "cell_type": "code",
   "execution_count": 19,
   "id": "right-devil",
   "metadata": {},
   "outputs": [],
   "source": [
    "img2 = cv.imread('Photos/group 2.jpg')\n",
    "show_img('Group',img2)"
   ]
  },
  {
   "cell_type": "code",
   "execution_count": 20,
   "id": "upset-spirit",
   "metadata": {},
   "outputs": [],
   "source": [
    "face_detection(img2)"
   ]
  },
  {
   "cell_type": "code",
   "execution_count": null,
   "id": "bacterial-toronto",
   "metadata": {},
   "outputs": [],
   "source": []
  }
 ],
 "metadata": {
  "kernelspec": {
   "display_name": "Python 3",
   "language": "python",
   "name": "python3"
  },
  "language_info": {
   "codemirror_mode": {
    "name": "ipython",
    "version": 3
   },
   "file_extension": ".py",
   "mimetype": "text/x-python",
   "name": "python",
   "nbconvert_exporter": "python",
   "pygments_lexer": "ipython3",
   "version": "3.8.8"
  }
 },
 "nbformat": 4,
 "nbformat_minor": 5
}

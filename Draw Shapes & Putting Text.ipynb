{
 "cells": [
  {
   "cell_type": "code",
   "execution_count": 1,
   "id": "compliant-observer",
   "metadata": {},
   "outputs": [],
   "source": [
    "import cv2 as cv\n",
    "import numpy as np"
   ]
  },
  {
   "cell_type": "markdown",
   "id": "strange-talent",
   "metadata": {},
   "source": [
    "<h3> Draw Green(0,255,0) Rectangle on origin of (0,0) to the end point of (220,220) with thickness 1</h3>"
   ]
  },
  {
   "cell_type": "code",
   "execution_count": 2,
   "id": "exciting-samuel",
   "metadata": {},
   "outputs": [],
   "source": [
    "blank = np.zeros((500,500,3), dtype='uint8')"
   ]
  },
  {
   "cell_type": "code",
   "execution_count": 3,
   "id": "adverse-network",
   "metadata": {},
   "outputs": [],
   "source": [
    "cv.imshow('Blank', blank)\n",
    "cv.waitKey(0)\n",
    "cv.destroyAllWindows()"
   ]
  },
  {
   "cell_type": "code",
   "execution_count": 4,
   "id": "documented-swift",
   "metadata": {
    "scrolled": true
   },
   "outputs": [
    {
     "data": {
      "text/plain": [
       "(500, 500, 3)"
      ]
     },
     "execution_count": 4,
     "metadata": {},
     "output_type": "execute_result"
    }
   ],
   "source": [
    "blank.shape"
   ]
  },
  {
   "cell_type": "code",
   "execution_count": 5,
   "id": "massive-atlanta",
   "metadata": {},
   "outputs": [],
   "source": [
    "cv.rectangle(blank, (0,0), (220,220), (0,255,0), thickness=1)\n",
    "cv.imshow('Rectangle', blank)\n",
    "cv.waitKey(0)\n",
    "cv.destroyAllWindows()"
   ]
  },
  {
   "cell_type": "markdown",
   "id": "artificial-fifteen",
   "metadata": {},
   "source": [
    "<h3> Draw Red(0,0,255) Rectangle on center with radius of 40 and thickness -1 (fill)</h3>"
   ]
  },
  {
   "cell_type": "code",
   "execution_count": 6,
   "id": "shaped-advertising",
   "metadata": {},
   "outputs": [],
   "source": [
    "blank2 = np.zeros((500,500,3), dtype='uint8')"
   ]
  },
  {
   "cell_type": "code",
   "execution_count": 7,
   "id": "yellow-riverside",
   "metadata": {},
   "outputs": [],
   "source": [
    "cv.circle(blank2, (blank2.shape[1]//2, blank2.shape[0]//2), 40, (0,0,255), thickness=-1)\n",
    "cv.imshow('Circle', blank2)\n",
    "cv.waitKey(0)\n",
    "cv.destroyAllWindows()"
   ]
  },
  {
   "cell_type": "markdown",
   "id": "ignored-brighton",
   "metadata": {},
   "source": [
    "<h3>Write Text on Image : 'Hello' </h3>"
   ]
  },
  {
   "cell_type": "code",
   "execution_count": 8,
   "id": "according-malawi",
   "metadata": {},
   "outputs": [],
   "source": [
    "cv.putText(blank, 'Hello', (225,225), cv.FONT_HERSHEY_TRIPLEX, 1.0, (255,0,0), 2)\n",
    "cv.imshow('Blank', blank)\n",
    "cv.waitKey(0)\n",
    "cv.destroyAllWindows()"
   ]
  },
  {
   "cell_type": "code",
   "execution_count": null,
   "id": "engaging-grove",
   "metadata": {},
   "outputs": [],
   "source": []
  }
 ],
 "metadata": {
  "kernelspec": {
   "display_name": "Python 3",
   "language": "python",
   "name": "python3"
  },
  "language_info": {
   "codemirror_mode": {
    "name": "ipython",
    "version": 3
   },
   "file_extension": ".py",
   "mimetype": "text/x-python",
   "name": "python",
   "nbconvert_exporter": "python",
   "pygments_lexer": "ipython3",
   "version": "3.8.8"
  }
 },
 "nbformat": 4,
 "nbformat_minor": 5
}

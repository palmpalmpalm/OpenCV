{
 "cells": [
  {
   "cell_type": "code",
   "execution_count": 1,
   "id": "parallel-longer",
   "metadata": {},
   "outputs": [],
   "source": [
    "import cv2 as cv\n",
    "import math\n",
    "import time"
   ]
  },
  {
   "cell_type": "code",
   "execution_count": 2,
   "id": "apart-crest",
   "metadata": {},
   "outputs": [],
   "source": [
    "# Utility function to use cv.imshow in jupyter notebook (lazy to type waitKey and destroyAllWindows)\n",
    "def show_img(name, img):\n",
    "    cv.imshow(name, img)\n",
    "    cv.waitKey(0)\n",
    "    cv.destroyAllWindows()"
   ]
  },
  {
   "cell_type": "code",
   "execution_count": 3,
   "id": "varied-advertising",
   "metadata": {},
   "outputs": [],
   "source": [
    "# config models path\n",
    "face_proto = \"Age and Gender Detection Model/opencv_face_detector.pbtxt\"\n",
    "face_model = \"Age and Gender Detection Model/opencv_face_detector_uint8.pb\"\n",
    "\n",
    "age_proto = \"Age and Gender Detection Model/age_deploy.prototxt\"\n",
    "age_model = \"Age and Gender Detection Model/age_net.caffemodel\"\n",
    "\n",
    "gender_proto = \"Age and Gender Detection Model/gender_deploy.prototxt\"\n",
    "gender_model = \"Age and Gender Detection Model/gender_net.caffemodel\""
   ]
  },
  {
   "cell_type": "code",
   "execution_count": 4,
   "id": "julian-belize",
   "metadata": {},
   "outputs": [],
   "source": [
    "MODEL_MEAN_VALUES = (78.4263377603, 87.7689143744, 114.895847746)\n",
    "age_list = ['(0-2)', '(4-6)', '(8-12)', '(15-20)', '(25-32)', '(38-43)', '(48-53)', '(60-100)']\n",
    "gender_list = ['Male', 'Female']"
   ]
  },
  {
   "cell_type": "code",
   "execution_count": 5,
   "id": "innocent-moore",
   "metadata": {},
   "outputs": [],
   "source": [
    "# load model\n",
    "age_net = cv.dnn.readNet(age_model, age_proto)\n",
    "gender_net = cv.dnn.readNet(gender_model, gender_proto)\n",
    "face_net = cv.dnn.readNet(face_model, face_proto)"
   ]
  },
  {
   "cell_type": "code",
   "execution_count": 6,
   "id": "raised-colombia",
   "metadata": {},
   "outputs": [],
   "source": [
    "def get_face_box(net, frame, conf_threshold=0.7):\n",
    "    frame_opencv_dnn = frame.copy()\n",
    "    frame_height = frame_opencv_dnn.shape[0]\n",
    "    frame_width = frame_opencv_dnn.shape[1]\n",
    "    \n",
    "    blob = cv.dnn.blobFromImage(frame_opencv_dnn, 1.0, (300,300), [104,117,123], True, False)\n",
    "    \n",
    "    net.setInput(blob)\n",
    "    detections = net.forward()\n",
    "    \n",
    "    boxes = []\n",
    "    for i in range(detections.shape[2]):\n",
    "        confidence = detections[0, 0, i, 2]\n",
    "        if confidence > conf_threshold:\n",
    "            x1 = int(detections[0, 0, i, 3] * frame_width)\n",
    "            y1 = int(detections[0, 0, i, 4] * frame_height)\n",
    "            x2 = int(detections[0, 0, i, 5] * frame_width)\n",
    "            y2 = int(detections[0, 0, i, 6] * frame_height)\n",
    "            boxes.append([x1, y1, x2, y2])\n",
    "            cv.rectangle(frame_opencv_dnn, (x1, y1), (x2, y2), (0, 255, 0), thickness=2)\n",
    "    return frame_opencv_dnn, boxes            "
   ]
  },
  {
   "cell_type": "code",
   "execution_count": 7,
   "id": "whole-advice",
   "metadata": {},
   "outputs": [],
   "source": [
    "padding = 20\n",
    "def gender_and_age_detection(frame):\n",
    "    frame_face, boxes = get_face_box(face_net, frame)\n",
    "    for box in boxes:        \n",
    "        face = frame[max(0,box[1]-padding):min(box[3]+padding,frame.shape[0]-1),max(0,box[0]-padding):min(box[2]+padding, frame.shape[1]-1)]\n",
    "        blob = cv.dnn.blobFromImage(face, 1.0, (227, 227), MODEL_MEAN_VALUES, swapRB = False)\n",
    "        \n",
    "        gender_net.setInput(blob)\n",
    "        gender_predicted = gender_net.forward()\n",
    "        gender = gender_list[gender_predicted[0].argmax()]\n",
    "        \n",
    "        age_net.setInput(blob)\n",
    "        age_predicted = age_net.forward()\n",
    "        age = age_list[age_predicted[0].argmax()]\n",
    "        \n",
    "        label = '{},{}'.format(gender, age)\n",
    "        cv.putText(frame_face, label, (box[0], box[1]-10), cv.FONT_HERSHEY_TRIPLEX, 0.8, (0, 255, 0), 2, cv.LINE_AA)\n",
    "    return frame_face"
   ]
  },
  {
   "cell_type": "code",
   "execution_count": 8,
   "id": "characteristic-replica",
   "metadata": {},
   "outputs": [],
   "source": [
    "img = cv.imread('Photos/lady.jpg')\n",
    "show_img('Lady', gender_and_age_detection(img))"
   ]
  },
  {
   "cell_type": "code",
   "execution_count": 9,
   "id": "responsible-cancer",
   "metadata": {},
   "outputs": [],
   "source": [
    "img = cv.imread('Photos/p win.jpg')\n",
    "show_img('P Win', gender_and_age_detection(img))"
   ]
  },
  {
   "cell_type": "code",
   "execution_count": null,
   "id": "infectious-modification",
   "metadata": {},
   "outputs": [],
   "source": []
  }
 ],
 "metadata": {
  "kernelspec": {
   "display_name": "Python 3",
   "language": "python",
   "name": "python3"
  },
  "language_info": {
   "codemirror_mode": {
    "name": "ipython",
    "version": 3
   },
   "file_extension": ".py",
   "mimetype": "text/x-python",
   "name": "python",
   "nbconvert_exporter": "python",
   "pygments_lexer": "ipython3",
   "version": "3.8.8"
  }
 },
 "nbformat": 4,
 "nbformat_minor": 5
}

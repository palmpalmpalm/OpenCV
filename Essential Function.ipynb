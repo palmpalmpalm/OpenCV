{
 "cells": [
  {
   "cell_type": "code",
   "execution_count": 1,
   "id": "entertaining-blame",
   "metadata": {},
   "outputs": [],
   "source": [
    "import cv2 as cv "
   ]
  },
  {
   "cell_type": "code",
   "execution_count": 6,
   "id": "exceptional-stuart",
   "metadata": {},
   "outputs": [],
   "source": [
    "img = cv.imread('Photos/park.jpg')\n",
    "cv.imshow('Park', img)\n",
    "cv.waitKey(0)\n",
    "cv.destroyAllWindows()"
   ]
  },
  {
   "cell_type": "code",
   "execution_count": 7,
   "id": "cutting-former",
   "metadata": {},
   "outputs": [],
   "source": [
    "# Utility function to use cv.imshow in jupyter notebook (lazy to type waitKey and destroyAllWindows)\n",
    "def show_img(name, img):\n",
    "    cv.imshow(name, img)\n",
    "    cv.waitKey(0)\n",
    "    cv.destroyAllWindows()"
   ]
  },
  {
   "cell_type": "code",
   "execution_count": 9,
   "id": "tight-cheese",
   "metadata": {},
   "outputs": [],
   "source": [
    "# Converting to grayscale\n",
    "gray = cv.cvtColor(img, cv.COLOR_BGR2GRAY)\n",
    "show_img('Gray', gray)"
   ]
  },
  {
   "cell_type": "code",
   "execution_count": 10,
   "id": "floating-steal",
   "metadata": {},
   "outputs": [],
   "source": [
    "# Blur\n",
    "blur = cv.GaussianBlur(img, (3,3), cv.BORDER_DEFAULT)\n",
    "show_img('Blur', blur)"
   ]
  },
  {
   "cell_type": "code",
   "execution_count": 11,
   "id": "continuous-concentration",
   "metadata": {},
   "outputs": [],
   "source": [
    "# Edge Cascade\n",
    "canny = cv.Canny(img, 125, 175)\n",
    "show_img('Canny Edges', canny)"
   ]
  },
  {
   "cell_type": "code",
   "execution_count": 17,
   "id": "amended-luxembourg",
   "metadata": {},
   "outputs": [],
   "source": [
    "# Dilating the image\n",
    "dilated = cv.dilate(canny, (7,7), iterations=3)\n",
    "show_img('Diliated', dilated)"
   ]
  },
  {
   "cell_type": "code",
   "execution_count": 19,
   "id": "suffering-member",
   "metadata": {},
   "outputs": [],
   "source": [
    "# Eroding\n",
    "eroded = cv.erode(dilated, (3,3), iterations=3)\n",
    "show_img('Eroded', eroded)"
   ]
  },
  {
   "cell_type": "code",
   "execution_count": 21,
   "id": "fitted-patrick",
   "metadata": {},
   "outputs": [],
   "source": [
    "# Resize\n",
    "resized = cv.resize(img, (500,500), interpolation=cv.INTER_CUBIC)\n",
    "show_img('Resized', resized)"
   ]
  },
  {
   "cell_type": "code",
   "execution_count": 22,
   "id": "rural-community",
   "metadata": {},
   "outputs": [],
   "source": [
    "# Cropping\n",
    "cropped  = img[50:200, 200:400]\n",
    "show_img('Cropped', cropped)"
   ]
  },
  {
   "cell_type": "code",
   "execution_count": null,
   "id": "hollow-engineer",
   "metadata": {},
   "outputs": [],
   "source": []
  }
 ],
 "metadata": {
  "kernelspec": {
   "display_name": "Python 3",
   "language": "python",
   "name": "python3"
  },
  "language_info": {
   "codemirror_mode": {
    "name": "ipython",
    "version": 3
   },
   "file_extension": ".py",
   "mimetype": "text/x-python",
   "name": "python",
   "nbconvert_exporter": "python",
   "pygments_lexer": "ipython3",
   "version": "3.8.8"
  }
 },
 "nbformat": 4,
 "nbformat_minor": 5
}
